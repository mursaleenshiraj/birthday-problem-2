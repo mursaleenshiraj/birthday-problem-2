{
 "cells": [
  {
   "cell_type": "code",
   "execution_count": 1,
   "metadata": {
    "collapsed": true
   },
   "outputs": [],
   "source": [
    "import numpy as np"
   ]
  },
  {
   "cell_type": "code",
   "execution_count": 2,
   "metadata": {
    "collapsed": true
   },
   "outputs": [],
   "source": [
    "class bdayprobcalc():\n",
    "    \n",
    "    '''this is an OOP implementation of \n",
    "    the calculation for the famous birthday problem'''\n",
    "    \n",
    "    \n",
    "    \n",
    "    def __init__(self, groupsize):\n",
    "        self.groupsize=groupsize\n",
    "\n",
    "    def bdayprob(self, iter=1000):\n",
    "        '''the function is going to calculate the probability'''\n",
    "        \n",
    "        p=0\n",
    "        j=0\n",
    "        days=np.arange(1, 365, 1)\n",
    "        \n",
    "        while j<iter:\n",
    "            \n",
    "            bdaylist=np.random.choice(days, size=self.groupsize, replace=True)\n",
    "            bdaylist=np.sort(bdaylist)\n",
    "            for i in range(len(bdaylist)-1):\n",
    "                if bdaylist[i]==bdaylist[i+1]:\n",
    "                    p=p+1\n",
    "                    break\n",
    "            j=j+1\n",
    "            \n",
    "        return p/iter\n",
    "        \n",
    "        "
   ]
  },
  {
   "cell_type": "code",
   "execution_count": 3,
   "metadata": {
    "collapsed": true
   },
   "outputs": [],
   "source": [
    "group=bdayprobcalc(23)"
   ]
  },
  {
   "cell_type": "code",
   "execution_count": 4,
   "metadata": {},
   "outputs": [
    {
     "data": {
      "text/plain": [
       "0.5"
      ]
     },
     "execution_count": 4,
     "metadata": {},
     "output_type": "execute_result"
    }
   ],
   "source": [
    "group.bdayprob()"
   ]
  },
  {
   "cell_type": "code",
   "execution_count": 5,
   "metadata": {},
   "outputs": [
    {
     "data": {
      "text/plain": [
       "0.8295"
      ]
     },
     "execution_count": 5,
     "metadata": {},
     "output_type": "execute_result"
    }
   ],
   "source": [
    "group2=bdayprobcalc(36)\n",
    "group2.bdayprob(iter=10000)"
   ]
  }
 ],
 "metadata": {
  "kernelspec": {
   "display_name": "Python 3",
   "language": "python",
   "name": "python3"
  },
  "language_info": {
   "codemirror_mode": {
    "name": "ipython",
    "version": 3
   },
   "file_extension": ".py",
   "mimetype": "text/x-python",
   "name": "python",
   "nbconvert_exporter": "python",
   "pygments_lexer": "ipython3",
   "version": "3.6.1"
  }
 },
 "nbformat": 4,
 "nbformat_minor": 2
}
